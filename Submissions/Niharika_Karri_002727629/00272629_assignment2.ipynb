{
 "cells": [
  {
   "cell_type": "markdown",
   "metadata": {},
   "source": [
    "#INFO6205 - PROGRAM STRUCTURES AND ALGORITHMS\n",
    "#ASSIGNMENT - 2\n",
    "\n",
    "#Niharika Santhoshini Karri\n",
    "#002727629\n",
    "\n",
    "#Professor: Nik Bear Brown"
   ]
  },
  {
   "cell_type": "markdown",
   "metadata": {},
   "source": [
    "#Q1 \n",
    "Implement Dijkstra's algorithm using a priority queue for efficient selection of the vertex with the minimum distance. Optimize the time complexity of the algorithm."
   ]
  },
  {
   "cell_type": "code",
   "execution_count": null,
   "metadata": {},
   "outputs": [
    {
     "ename": "",
     "evalue": "",
     "output_type": "error",
     "traceback": [
      "\u001b[1;31mRunning cells with 'c:\\Users\\91918\\AppData\\Local\\Programs\\Python\\Python311\\python.exe' requires the ipykernel package.\n",
      "\u001b[1;31mRun the following command to install 'ipykernel' into the Python environment. \n",
      "\u001b[1;31mCommand: 'c:/Users/91918/AppData/Local/Programs/Python/Python311/python.exe -m pip install ipykernel -U --user --force-reinstall'"
     ]
    }
   ],
   "source": [
    "import heapq\n",
    "\n",
    "def dijkstra(graph, source):\n",
    "    distances = {vertex: float('infinity') for vertex in graph}\n",
    "    distances[source] = 0\n",
    "    priority_queue = [(0, source)]  # (distance, vertex)\n",
    "\n",
    "    while priority_queue:\n",
    "        current_distance, current_vertex = heapq.heappop(priority_queue)\n",
    "\n",
    "        # Skip outdated entries in the priority queue\n",
    "        if current_distance > distances[current_vertex]:\n",
    "            continue\n",
    "\n",
    "        for neighbor, weight in graph[current_vertex].items():\n",
    "            distance = current_distance + weight\n",
    "\n",
    "            if distance < distances[neighbor]:\n",
    "                distances[neighbor] = distance\n",
    "                heapq.heappush(priority_queue, (distance, neighbor))\n",
    "\n",
    "    return distances\n",
    "\n",
    "\n",
    "graph = {\n",
    "    'A': {'B': 1, 'C': 4},\n",
    "    'B': {'C': 2, 'D': 5},\n",
    "    'C': {'D': 1},\n",
    "    'D': {}\n",
    "}\n",
    "\n",
    "source = 'A'\n",
    "x = dijkstra(graph, source)\n",
    "print(x)\n"
   ]
  },
  {
   "cell_type": "markdown",
   "metadata": {},
   "source": [
    "#Q2 Prove by mathematical induction that in any binary tree, the number of nodes with exactly one child is equal to the number of internal nodes.\n",
    "\n",
    "\n",
    "\n",
    "For a binary tree with only one node, there are no nodes with exactly one child, and there are no internal nodes. The statement holds for this base case.\n",
    "\n",
    "Assume that the statement holds for a binary tree with n nodes, where n > 1, the number of nodes with exactly one child is equal to the number of internal nodes in the tree.\n",
    "\n",
    "Consider a binary tree with n + 1 nodes. Let's call the root of the tree R. R can have either 0, 1, or 2 children. \n",
    "There are three cases to consider -\n",
    "\n",
    "If R has 0 children - In this case, R is a leaf node, and there are no nodes with exactly one child and no internal nodes. The statement holds.\n",
    "\n",
    "If R has 1 child - In this case, R itself is not counted as a node with exactly one child, but it is counted as an internal node. The number of nodes with exactly one child and the number of internal nodes both increase by 1.\n",
    "\n",
    "If R has 2 children - In this case, R is not counted as a node with exactly one child, but it is counted as an internal node. The number of nodes with exactly one child remains unchanged, and the number of internal nodes increases by 1.\n",
    "\n",
    "In all cases, the number of nodes with exactly one child and the number of internal nodes have the same relationship as in the binary tree with n nodes. By the principle of mathematical induction, we have shown that the statement holds for all binary trees."
   ]
  },
  {
   "cell_type": "markdown",
   "metadata": {},
   "source": [
    "#Q3 An algorithm is described by the recurrence relation:\n",
    "\n",
    "#T(n) = 9T(n/3) + n^2\n",
    "\n",
    "#Use the Master Theorem to determine the time complexity.\n",
    "\n",
    "\n",
    "\n",
    "The recurrence relation is in the form: T(n) = aT(n/b) + f(n).\n",
    "\n",
    "In this case, a = 9, b = 3, and f(n) = n^2.\n",
    "\n",
    "Now, Compare f(n) to n^log_b(a):\n",
    "\n",
    "n^log_b(a) = n^log_3(9) = n^2\n",
    "\n",
    "Here, f(n) = n^2 is equal to n^2, which falls into Case 1 of the Master Theorem.\n",
    "\n",
    "Case 1 of the Master Theorem states that if f(n) is O(n^log_b(a-ε)) for some ε > 0, and if a⋅f(n/b) ≤ cf(n) for some c < 1 and sufficiently large n, then T(n) = Θ(n^log_b(a))\n",
    "\n",
    "In this case, T(n) = Θ(n^2)\n",
    "\n",
    "So, the time complexity of the algorithm is T(n) = Θ(n^2)"
   ]
  },
  {
   "cell_type": "markdown",
   "metadata": {},
   "source": [
    "#Q4\n",
    "\n",
    "You are given a set of items, each with certain characteristics. Each item can be transformed into another kind of item through a sequence of steps, with each step incurring a cost. Some items cannot be further modified and are considered products, while others cannot be produced from other items and are considered raw materials. Each day, the goal is to find a process that, for a given raw material, produces a product with the maximum profit. Develop an efficient algorithm to determine this process for the day, and explain why your algorithm is efficient.\n",
    "\n",
    "Solution:\n",
    "\n",
    "To efficiently determine the process for the day, we can use a graph-based approach. We can model the items, manufacturing steps, costs, and sale prices as nodes and edges in a directed graph. The objective is to find the path from a raw material node to a product node that maximizes the profit.\n",
    "\n",
    "Algorithm:\n",
    "\n",
    "1. Build a directed graph:\n",
    "   - Create a node for each item, including raw materials, products, and intermediate items.\n",
    "   - Create directed edges to represent the manufacturing steps. Each edge should have a weight equal to the cost of the step.\n",
    "\n",
    "2. Identify raw materials and products:\n",
    "   - Identify raw material nodes.\n",
    "   - Identify product node.\n",
    "\n",
    "3. Initialize a profit-maximizing process:\n",
    "   - Initialize a variable to keep track of the maximum profit.\n",
    "   - Initialize variables to store the current raw material and product nodes for the profit-maximizing process.\n",
    "\n",
    "4. Find the maximum profit process:\n",
    "   - For each raw material node:\n",
    "     - Use a topological sorting algorithm to traverse the graph from the raw material node to product nodes.\n",
    "     - Calculate the profit for each possible path from the raw material to a product by subtracting the costs of the steps from the sale price of the product.\n",
    "     - If the calculated profit is greater than the current maximum profit, update the maximum profit and record the raw material and product nodes.\n",
    "\n",
    "5. The profit-maximizing process for the day is the one identified in step 4."
   ]
  },
  {
   "cell_type": "markdown",
   "metadata": {},
   "source": [
    "#Q5 Given a set of items, each with a weight and a value, and a knapsack with a maximum weight capacity, implement a function to find the maximum total value you can obtain by selecting any number of items such that the sum of their weights does not exceed the knapsack's capacity.\n",
    "\n"
   ]
  },
  {
   "cell_type": "code",
   "execution_count": null,
   "metadata": {},
   "outputs": [
    {
     "ename": "",
     "evalue": "",
     "output_type": "error",
     "traceback": [
      "\u001b[1;31mRunning cells with 'c:\\Users\\91918\\AppData\\Local\\Programs\\Python\\Python311\\python.exe' requires the ipykernel package.\n",
      "\u001b[1;31mRun the following command to install 'ipykernel' into the Python environment. \n",
      "\u001b[1;31mCommand: 'c:/Users/91918/AppData/Local/Programs/Python/Python311/python.exe -m pip install ipykernel -U --user --force-reinstall'"
     ]
    }
   ],
   "source": [
    "def unbounded_knapsack(values, weights, capacity):\n",
    "    n = len(values)\n",
    "    dp = [0] * (capacity + 1)\n",
    "\n",
    "    for w in range(1, capacity + 1):\n",
    "        for i in range(n):\n",
    "            if weights[i] <= w:\n",
    "                dp[w] = max(dp[w], dp[w - weights[i]] + values[i])\n",
    "\n",
    "    return dp[capacity]\n",
    "\n",
    "\n",
    "values = [60, 100, 120]\n",
    "weights = [10, 20, 30]\n",
    "capacity = 50\n",
    "print(unbounded_knapsack(values, weights, capacity))  # Output: 300\n"
   ]
  },
  {
   "cell_type": "markdown",
   "metadata": {},
   "source": [
    "#Q6 Given a set of positive integers and a target sum, implement a function to determine whether there exists a subset of the integers that adds up to the target sum.\n"
   ]
  },
  {
   "cell_type": "code",
   "execution_count": null,
   "metadata": {},
   "outputs": [
    {
     "ename": "",
     "evalue": "",
     "output_type": "error",
     "traceback": [
      "\u001b[1;31mRunning cells with 'c:\\Users\\91918\\AppData\\Local\\Programs\\Python\\Python311\\python.exe' requires the ipykernel package.\n",
      "\u001b[1;31mRun the following command to install 'ipykernel' into the Python environment. \n",
      "\u001b[1;31mCommand: 'c:/Users/91918/AppData/Local/Programs/Python/Python311/python.exe -m pip install ipykernel -U --user --force-reinstall'"
     ]
    }
   ],
   "source": [
    "def subset_sum(nums, target):\n",
    "    n = len(nums)\n",
    "    dp = [[False] * (target + 1) for _ in range(n + 1)]\n",
    "\n",
    "    for i in range(n + 1):\n",
    "        dp[i][0] = True\n",
    "\n",
    "    for i in range(1, n + 1):\n",
    "        for j in range(1, target + 1):\n",
    "            if nums[i - 1] <= j:\n",
    "                dp[i][j] = dp[i - 1][j] or dp[i - 1][j - nums[i - 1]]\n",
    "            else:\n",
    "                dp[i][j] = dp[i - 1][j]\n",
    "\n",
    "    return dp[n][target]\n",
    "\n",
    "\n",
    "nums = [3, 34, 4, 12, 5, 2]\n",
    "target = 9\n",
    "print(subset_sum(nums, target))\n"
   ]
  },
  {
   "cell_type": "markdown",
   "metadata": {},
   "source": [
    "#Q7\n",
    "\n",
    "You are given an undirected weighted graph with V vertices and E edges. Implement Prim's algorithm to find the Minimum Spanning Tree (MST) of the graph. Provide the steps of the algorithm and the final MST for a given example graph.\n",
    "\n",
    "\n",
    "\n",
    "Prim's algorithm is a greedy algorithm used to find the Minimum Spanning Tree of a graph. \n",
    "Steps of Prim's algorithm:\n",
    "\n",
    "1. Initialize an empty set to represent the MST\n",
    "\n",
    "2. Choose an arbitrary starting vertex as the initial node for the MST\n",
    "\n",
    "3. Create a priority queue to store edges with their weights\n",
    "\n",
    "4. Add all edges connected to the initial node to the priority queue\n",
    "\n",
    "5. While the priority queue is not empty and the MST does not contain all vertices:\n",
    "   - Extract the edge with the minimum weight from the priority queue\n",
    "   - If adding this edge to the MST does not create a cycle, add it to the MST\n",
    "   - Add all edges connected to the newly added vertex to the priority queue\n",
    "\n",
    "6. The MST is now complete\n",
    "\n",
    "Prim's algorithm example:\n",
    "\n",
    "Consider the following weighted, undirected graph:\n"
   ]
  },
  {
   "cell_type": "markdown",
   "metadata": {},
   "source": [
    "data:image/png;base64,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"
   ]
  },
  {
   "cell_type": "markdown",
   "metadata": {},
   "source": [
    "The graph can be represented as an adjacency matrix:\n",
    "\n",
    "  A B C D\n",
    "\n",
    "A 0 4 3 2\n",
    "\n",
    "B 4 0 1 0\n",
    "\n",
    "C 3 1 0 5\n",
    "\n",
    "D 2 0 5 0\n",
    "\n",
    " Prim's algorithm:\n",
    "\n",
    "1. Initialize an empty MST and start with vertex A.\n",
    "\n",
    "MST: []\n",
    "\n",
    "2. Add edges (A, B, 4), (A, C, 3), and (A, D, 2) to the priority queue.\n",
    "\n",
    "Priority Queue: [(A, B, 4), (A, C, 3), (A, D, 2)]\n",
    "\n",
    "3. Extract the edge (A, D, 2) with the minimum weight and add it to the MST.\n",
    "\n",
    "MST: [(A, D, 2)]\n",
    "\n",
    "4. Add edges (B, D, 1) and (C, D, 5) to the priority queue.\n",
    "\n",
    "Priority Queue: [(A, B, 4), (A, C, 3), (B, D, 1), (C, D, 5)]\n",
    "\n",
    "5. Extract the edge (B, D, 1) with the minimum weight and add it to the MST.\n",
    "\n",
    "MST: [(A, D, 2), (B, D, 1)]\n",
    "\n",
    "6. Add edge (A, C, 3) to the priority queue.\n",
    "\n",
    "Priority Queue: [(A, B, 4), (A, C, 3), (C, D, 5)]\n",
    "\n",
    "7. Extract the edge (B, D, 1) with the minimum weight and add it to the MST.\n",
    "\n",
    "MST: [(A, D, 2), (B, D, 1), (A, C, 3)]\n",
    "\n",
    "8. Add edge (A, B, 4) to the priority queue.\n",
    "\n",
    "Priority Queue: [(A, B, 4), (C, D, 5)]\n",
    "\n",
    "9. Extract the edge (B, A, 4) with the minimum weight and add it to the MST.\n",
    "\n",
    "MST: [(A, D, 2), (B, D, 1), (A, C, 3), (A, B, 4)]\n",
    "\n",
    "10. Extract the edge (C, D, 5) with the minimum weight and add it to the MST.\n",
    "\n",
    "MST: [(A, D, 2), (B, D, 1), (A, C, 3), (A, B, 4), (C, D, 5)]\n",
    "\n",
    "The final MST is represented by the edges:\n",
    "\n",
    "(A, D, 2)\n",
    "(B, D, 1)\n",
    "(A, C, 3)\n",
    "(A, B, 4)\n",
    "(C, D, 5)\n",
    "\n",
    "\n",
    "This MST contains all the vertices of the original graph with the minimum total weight, and it is a tree with no cycles, which is the objective of Prim's algorithm."
   ]
  },
  {
   "cell_type": "markdown",
   "metadata": {},
   "source": [
    "#Q8 You are given a list of cities and the cost of building roads between them. Implement a function to find the minimum cost to connect all the cities using Kruskal's algorithm to find the Minimum Spanning Tree"
   ]
  },
  {
   "cell_type": "code",
   "execution_count": null,
   "metadata": {},
   "outputs": [
    {
     "ename": "",
     "evalue": "",
     "output_type": "error",
     "traceback": [
      "\u001b[1;31mRunning cells with 'c:\\Users\\91918\\AppData\\Local\\Programs\\Python\\Python311\\python.exe' requires the ipykernel package.\n",
      "\u001b[1;31mRun the following command to install 'ipykernel' into the Python environment. \n",
      "\u001b[1;31mCommand: 'c:/Users/91918/AppData/Local/Programs/Python/Python311/python.exe -m pip install ipykernel -U --user --force-reinstall'"
     ]
    }
   ],
   "source": [
    "class KruskalMST:\n",
    "    def __init__(self, vertices):\n",
    "        self.V = vertices\n",
    "        self.graph = []\n",
    "\n",
    "    def add_edge(self, u, v, w):\n",
    "        self.graph.append((u, v, w))\n",
    "\n",
    "    def find_parent(self, parent, i):\n",
    "        if parent[i] == i:\n",
    "            return i\n",
    "        return self.find_parent(parent, parent[i])\n",
    "\n",
    "    def union(self, parent, rank, x, y):\n",
    "        x_root = self.find_parent(parent, x)\n",
    "        y_root = self.find_parent(parent, y)\n",
    "\n",
    "        if rank[x_root] < rank[y_root]:\n",
    "            parent[x_root] = y_root\n",
    "        elif rank[x_root] > rank[y_root]:\n",
    "            parent[y_root] = x_root\n",
    "        else:\n",
    "            parent[y_root] = x_root\n",
    "            rank[x_root] += 1\n",
    "\n",
    "    def kruskal_mst(self):\n",
    "        result = []\n",
    "        self.graph = sorted(self.graph, key=lambda item: item[2])\n",
    "        parent = [i for i in range(self.V)]\n",
    "        rank = [0] * self.V\n",
    "        i = 0\n",
    "\n",
    "        while len(result) < self.V - 1:\n",
    "            u, v, w = self.graph[i]\n",
    "            i += 1\n",
    "            x = self.find_parent(parent, u)\n",
    "            y = self.find_parent(parent, v)\n",
    "\n",
    "            if x != y:\n",
    "                result.append(w)\n",
    "                self.union(parent, rank, x, y)\n",
    "\n",
    "        return sum(result)\n",
    "\n",
    "\n",
    "graph = KruskalMST(4)\n",
    "graph.add_edge(0, 1, 10)\n",
    "graph.add_edge(0, 2, 6)\n",
    "graph.add_edge(0, 3, 5)\n",
    "graph.add_edge(1, 3, 15)\n",
    "graph.add_edge(2, 3, 4)\n",
    "min_cost = graph.kruskal_mst()\n",
    "print(\"Minimum Cost to Connect All Cities:\", min_cost)\n"
   ]
  },
  {
   "cell_type": "markdown",
   "metadata": {},
   "source": [
    "#Q9 You are given a directed graph G = (V, E) that may or may not contain cycles. Implement Kahn's algorithm for topological sorting to find a topological ordering of the vertices in G, if it exists. If G is not a DAG, the algorithm should indicate that it's not possible to find a valid topological sorting."
   ]
  },
  {
   "cell_type": "code",
   "execution_count": null,
   "metadata": {},
   "outputs": [
    {
     "ename": "",
     "evalue": "",
     "output_type": "error",
     "traceback": [
      "\u001b[1;31mRunning cells with 'c:\\Users\\91918\\AppData\\Local\\Programs\\Python\\Python311\\python.exe' requires the ipykernel package.\n",
      "\u001b[1;31mRun the following command to install 'ipykernel' into the Python environment. \n",
      "\u001b[1;31mCommand: 'c:/Users/91918/AppData/Local/Programs/Python/Python311/python.exe -m pip install ipykernel -U --user --force-reinstall'"
     ]
    }
   ],
   "source": [
    "from collections import defaultdict, deque\n",
    "\n",
    "def topological_sort(graph):\n",
    "    \n",
    "    in_degree = defaultdict(int)\n",
    "    topological_order = []\n",
    "    zero_in_degree_queue = deque()\n",
    "\n",
    "    \n",
    "    for u, neighbors in graph.items():\n",
    "        for v in neighbors:\n",
    "            in_degree[v] += 1\n",
    "\n",
    "    \n",
    "    for vertex in graph.keys():\n",
    "        if in_degree[vertex] == 0:\n",
    "            zero_in_degree_queue.append(vertex)\n",
    "\n",
    "    \n",
    "    while zero_in_degree_queue:\n",
    "        u = zero_in_degree_queue.popleft()\n",
    "        topological_order.append(u)\n",
    "\n",
    "        \n",
    "        for v in graph[u]:\n",
    "            in_degree[v] -= 1\n",
    "\n",
    "            \n",
    "            if in_degree[v] == 0:\n",
    "                zero_in_degree_queue.append(v)\n",
    "\n",
    "    \n",
    "    if len(topological_order) == len(graph):\n",
    "        return topological_order  \n",
    "    else:\n",
    "        return None  \n",
    "\n",
    "\n",
    "graph = {\n",
    "    0: [1, 2],\n",
    "    1: [3],\n",
    "    2: [3],\n",
    "    3: []\n",
    "}\n",
    "\n",
    "g = topological_sort(graph)\n",
    "if g:\n",
    "    print(\"Topological Sorting Order:\", g)\n",
    "else:\n",
    "    print(\"The graph contains cycles and cannot be topologically sorted.\")\n"
   ]
  },
  {
   "cell_type": "markdown",
   "metadata": {},
   "source": [
    "#Q10\n",
    "\n",
    "In the world of visual arts, there's a class of artworks that follows a unique pattern. Each artwork builds upon the previous one, adding a new element while retaining parts of the previous artwork. For example, a series of paintings might start with a blank canvas and then, in each subsequent painting, add a new layer of details while preserving the existing ones.\n",
    "\n",
    "These artworks, despite having intricate details, aim to convey their essence efficiently by specifying only the new elements introduced in each artwork, without repeating all the previous details. Assume that the number of elements introduced in each artwork is bounded by a constant 'c.'\n",
    "\n",
    "Suppose the total number of elements in a sequence of artworks is 'n'. Show how to encode these artworks using a script that has a length 'f(n)' for a function 'f(n)' that grows as slowly as possible. Explain the approach.\n",
    "\n",
    "Solution-\n",
    "\n",
    "In the world of visual arts, there are scenarios where a series of artworks build upon each other, adding new elements while retaining existing ones. To efficiently encode these artworks with a script length 'f(n)' that grows as slowly as possible, we can use a technique similar to the one used for songs.\n",
    "\n",
    "Approach\n",
    "\n",
    "1. **Identify Unique Elements:** Analyze each artwork in the series and identify the unique elements introduced in each artwork compared to the previous one.\n",
    "\n",
    "2. **Encode Unique Elements:** Encode only the unique elements introduced in each artwork, specifying their position, properties, or characteristics. We do not need to reiterate the common elements already present in the previous artworks.\n",
    "\n",
    "3. **Use References:** Instead of encoding all details of a common element in every artwork, use references or placeholders to refer back to the original description of that element. This way, you can avoid redundant descriptions.\n",
    "\n",
    "4. **Optimize Descriptions:** Optimize the descriptions of new elements to minimize their length while retaining their essence.\n",
    "\n",
    "5. **Concatenate Descriptions:** Concatenate the descriptions of unique elements from all artworks to create the final script.\n",
    "\n",
    "By following this approach, the script length 'f(n)' will be significantly smaller than if we were to encode every detail of every artwork separately. The growth of 'f(n)' will be as slow as possible because it depends mainly on the number of unique elements introduced in the series and their descriptions, rather than duplicating the entire content of previous artworks.\n",
    "\n",
    "This efficient encoding allows viewers to understand and appreciate the progression of the artworks while minimizing the script's length, making it an effective way to convey the essence of the artistic series."
   ]
  },
  {
   "cell_type": "markdown",
   "metadata": {},
   "source": [
    "#How ChatGPT or the tool you used assisted in this task\n",
    "\n",
    "In this task, I utilized ChatGPT to enhance my understanding of various algorithmic concepts and frameworks. With the knowledge and guidance provided by ChatGPT, I crafted questions and solutions, ensuring accuracy and clarity. ChatGPT served as a valuable resource to reinforce my comprehension of these topics, allowing me to generate diverse and meaningful questions that align with the principles and examples discussed. The tool's assistance was pivotal in the learning process, enabling me to craft well-structured problems and solutions independently.\n",
    "\n",
    "#Challenges you faced while ensuring the problem maintained the spirit of the example\n",
    "Challenges in Maintaining Spirit:\n",
    "The main challenge was ensuring that the problems maintained the spirit of the provided examples while being relevant and engaging. It required creative adaptation of the core concept, such as translating the idea of songs or songs with repeating verses into other domains like art or visual art series.\n",
    "\n",
    "#What you learned about problem design in the realm of algorithms\n",
    "Learning About Problem Design:\n",
    "Designing algorithmic problems involves not only understanding the underlying concepts but also framing them in a way that challenges problem solvers effectively. I learned that presenting problems in real-world contexts, as demonstrated in the examples, can make abstract algorithms more relatable and interesting. Additionally, it's essential to balance complexity, clarity, and brevity in problem statements to make them accessible yet intellectually stimulating.\n",
    "\n",
    "The process highlighted the versatility of algorithmic concepts and the importance of adapting them to different scenarios. It also reinforced the idea that effective problem design involves bridging the gap between abstract algorithms and practical applications to engage and challenge problem solvers."
   ]
  }
 ],
 "metadata": {
  "kernelspec": {
   "display_name": "Python 3",
   "language": "python",
   "name": "python3"
  },
  "language_info": {
   "name": "python",
   "version": "3.11.1"
  },
  "orig_nbformat": 4
 },
 "nbformat": 4,
 "nbformat_minor": 2
}
