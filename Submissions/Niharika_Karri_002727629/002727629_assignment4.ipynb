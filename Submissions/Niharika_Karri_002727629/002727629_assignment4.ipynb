{
 "cells": [
  {
   "cell_type": "markdown",
   "metadata": {},
   "source": [
    "#INFO6205 - PROGRAM STRUCTURES AND ALGORITHMS\n",
    "#ASSIGNMENT - 4\n",
    "\n",
    "Niharika Santhoshini Karri\n",
    "\n",
    "002727629\n",
    "\n",
    "Professor: Nik Bear Brown"
   ]
  },
  {
   "cell_type": "markdown",
   "metadata": {},
   "source": [
    "1) Given a directed graph G=(V,E) with edge costs, and k pairs of nodes (s 1​,t 1​),(s 2​,t 2​),…,(s k​,t k​), find node-disjoint paths P 1​,P 2​,…,P k​from s i​to t i​such that the total cost of the paths is minimized. If no such paths exist, the algorithm should indicate so\n",
    "\n",
    "Solution: This problem is NP-complete.\n",
    "\n",
    "Solution Approach: Use a variation of the shortest path algorithm that accounts for disjointness, such as Suurballe's algorithm, to find individual paths. Modify the graph after finding each path to prevent future paths from reusing nodes of already found paths. Sum the costs of the paths to get the total cost. NP-Completeness Proof: This problem is in NP since given a set of paths, we can easily calculate the total cost and verify that paths are disjoint in polynomial time. It's NP-hard because even deciding if there exists a set of disjoint paths (without considering cost) is the Directed Disjoint Paths Problem, which is NP-complete."
   ]
  },
  {
   "cell_type": "markdown",
   "metadata": {},
   "source": [
    "2)Given m resources and n projects, each project requiring specific resources and each resource having a limited number of hours available, assign resources to projects such that all projects can be completed. Graph Solution: Represent each resource and project as nodes in a bipartite graph, with edges weighted by the number of hours a resource can contribute to a project. Use a maximum flow algorithm to allocate resources.\n",
    "\n",
    "Graph Solution:\n",
    "\n",
    "Graph Nodes: m resources: R1, R2, ..., Rm n projects: P1, P2, ..., Pn Graph Edges: Connect resource Ri to project Pj if Ri can contribute to Pj. Edge weights represent the number of hours Ri can contribute to Pj.\n",
    "\n",
    "Create a bipartite graph with resources on one side and projects on the other. Connect a resource to a project if that resource can contribute to the project. Assign weights to edges based on the number of hours a resource can contribute. Using a maximum flow algorithm to allocate resources to projects. The maximum flow through this graph will represent the optimal allocation of resources to projects. If the maximum flow equals the total hours required by all projects, then an optimal allocation is possible. Otherwise, some projects might not be completed with the available resources"
   ]
  },
  {
   "cell_type": "markdown",
   "metadata": {},
   "source": [
    "![Alt text](A4-1.png)\n"
   ]
  },
  {
   "cell_type": "markdown",
   "metadata": {},
   "source": [
    "3) Given a directed graph G=(V,E) and a set of k pairs of nodes (s1​,t1​),(s2​,t 2​),…,(s k​,t k​), along with a capacity C(v) for each vertex v∈V (excluding s i​and t i​for all i), decide whether there exist node-disjoint paths P1​,P2​,…,Pk ​such that Pi ​goes from si ​to ti ​and the number of paths passing through any vertex v does not exceed C(v).\n",
    "\n",
    "Solution:\n",
    "\n",
    "This problem can be shown to be NP-complete by a reduction from the Directed Disjoint Paths Problem, which is already known to be NP-complete.\n",
    "\n",
    "Reduction Approach: Given an instance of the Directed Disjoint Paths Problem, create an instance of this problem by setting C(v)=1 for all v∈V. If there exists a solution to the Directed Disjoint Paths Problem, the same solution applies here since each vertex can be part of at most one path, respecting the capacity constraints. Conversely, any solution to this problem with C(v)=1 constraints is also a solution to the original problem. Complexity: Checking if a solution is valid (i.e., paths are disjoint and respect vertex capacities) can be done in polynomial time, confirming the problem is in NP. The reduction shows NP-hardness"
   ]
  },
  {
   "cell_type": "markdown",
   "metadata": {},
   "source": [
    "4) An event needs n different roles filled by volunteers over several days.\n",
    "There are m volunteers, each available on specific days and willing to take on specific roles.\n",
    "The task is to schedule volunteers in a way that all roles are filled on each day of the event.\n",
    "\n",
    "Graph Solution:\n",
    "\n",
    "Create a bipartite graph with volunteers on one side and role-day pairs on the other . Connect volunteers to role-day pairs they are willing and able to fill. Use a maximum matching algorithm to match volunteers to role-day pairs. The maximum matching will determine if it's possible to fill all roles on each day. A perfect matching means every role is filled for each day of the event.\n",
    "\n",
    "Graph Nodes: m volunteers: V1, V2, ..., Vm Role-day pairs: (Role1-Day1), (Role2-Day1), ..., (RoleN-DayX) Graph Edges: Connect volunteer Vi to (RoleJ-DayK) if Vi can fill RoleJ on DayK.\n",
    "\n",
    "This graph illustrates the connections between volunteers (V1, V2, V3) and role-day pairs (e.g., R1-D1 for Role 1 on Day 1). Edges show which volunteers are available and suitable for specific roles on specific days."
   ]
  },
  {
   "cell_type": "markdown",
   "metadata": {},
   "source": [
    "![Description](A4-2.png)\n"
   ]
  },
  {
   "cell_type": "markdown",
   "metadata": {},
   "source": [
    "5) You are organizing an advanced-level seminar with a mix of lectures and interactive sessions. The seminar will run for i weeks, with one session per week. There are n potential topics, each with a subset of experts who can lead the session. For each week i, a subset Li of these experts is available. Each interactive session j (for j = 1, 2, ..., p) requires the students to have prior knowledge from specific topics. For each session j, there is a subset Tj of topics that provide the necessary background.\n",
    "\n",
    "The challenge is to select exactly one expert for each of the first i weeks, ensuring all experts are available in their designated week, and for each interactive session j, the students have been exposed to at least one of the topics in Tj.\n",
    "\n",
    "Sample Instance:\n",
    "\n",
    "i = 2, p = 2, n = 3 topics denoted X, Y, Z.\n",
    "Availability: L1 = {X, Y}, L2 = {Y, Z}.\n",
    "Required topics: T1 = {X, Z}, T2 = {Y}.\n",
    "Solution: Yes. Choose topic X in the first week and topic Z in the second week. This covers the required topics for both interactive sessions.\n",
    "Solution and Proof that the Problem is NP-Complete:\n",
    "\n",
    "The problem is in NP:\n",
    "\n",
    "Given a sequence of experts (and their topics), we can efficiently check if all experts are available in their weeks (Li) and if each interactive session (Tj) has at least one relevant topic covered previously.\n",
    "Reduction from 3-SAT to Advanced Seminar Scheduling:\n",
    "\n",
    "Given a 3-SAT instance with clauses C1, ..., Ck over variables x1, ..., xn, construct an instance of this problem.\n",
    "For each variable xi, create two topics zi and zi' corresponding to xi and its negation.\n",
    "Set the first n weeks for lectures, where in week i, the available topics are zi and zi'.\n",
    "Then set k interactive sessions, where for session j, the required topics Tj are those corresponding to the literals in clause Cj.\n",
    "If there's a satisfying assignment for 3-SAT, select topics for the first n weeks corresponding to the truth values of the variables, ensuring all interactive sessions have the necessary background.\n",
    "Conversely, a feasible seminar schedule implies a satisfying assignment for the 3-SAT instance.\n",
    "Reduction from Vertex Cover:\n",
    "\n",
    "Given a graph G = (V, E) and a number k, create a topic for each vertex.\n",
    "Set i = k, and make all topics available each week.\n",
    "For each edge (u, v), create an interactive session requiring topics corresponding to u and v.\n",
    "A vertex cover in G translates to a feasible seminar schedule, and vice versa."
   ]
  },
  {
   "cell_type": "markdown",
   "metadata": {},
   "source": [
    "6) There are n classrooms and m courses.\n",
    "Each course has specific time and equipment requirements.\n",
    "The objective is to assign courses to classrooms such that all courses have an appropriate room.\n",
    "Graph Nodes:\n",
    "n classrooms: C1, C2, ..., Cn\n",
    "m courses: K1, K2, ..., Km\n",
    "Graph Edges:\n",
    "Connect classroom Ci to course Kj if Ci meets the requirements of Kj (e.g., equipment, size).\n",
    "We'll draw a graph for a scenario with several classrooms and courses."
   ]
  },
  {
   "cell_type": "markdown",
   "metadata": {},
   "source": [
    "![Description](A4-3.png)\n"
   ]
  },
  {
   "cell_type": "markdown",
   "metadata": {},
   "source": [
    "7) You're working with a network security team that monitors a large and complex computer network. The network has a set of n nodes (servers, routers, etc.) and m distinct activities that need to be monitored over a period of t time units (e.g., minutes, hours). For each time unit i (for i = 1, 2, ..., t), there is a subset Ai of activities that are known to occur.\n",
    "\n",
    "Each node in the network can monitor a subset of activities, but not all. For each node j (for j = 1, 2, ..., n), there is a subset Nj of activities that it can monitor.\n",
    "\n",
    "The Secure Network Monitoring Problem asks: Given the collection of all activities Ai occurring at each time unit and the capabilities of each node Nj, along with a number k, is there a set of at most k nodes that can collectively monitor all activities over the t time units?\n",
    "\n",
    "Sample Instance:\n",
    "\n",
    "t = 2 time units, m = 3 activities denoted X, Y, Z.\n",
    "Activities occurring: A1 = {X, Y}, A2 = {Y, Z}.\n",
    "Node capabilities: N1 = {X, Z}, N2 = {Y}.\n",
    "Question: Is there a set of at most k = 2 nodes that can monitor all activities?\n",
    "Solution and Proof that the Problem is NP-Complete:\n",
    "\n",
    "The problem is in NP:\n",
    "\n",
    "Given a set of nodes, we can easily verify that these nodes can monitor all activities over the t time units.\n",
    "Reduction from Vertex Cover:\n",
    "\n",
    "Given an instance of Vertex Cover with a graph G = (V, E) and a bound k, construct an instance of Secure Network Monitoring.\n",
    "For each edge e in G, create a time unit i where activity Ai represents the edge e.\n",
    "For each vertex v in G, create a node j whose capabilities Nj include monitoring the activities representing the edges incident to v.\n",
    "The question then becomes whether there's a set of at most k nodes that can monitor all activities, analogous to whether there's a vertex cover of size k in G.\n",
    "Proof of NP-Completeness:\n",
    "\n",
    "If G has a vertex cover C of size k, then the corresponding nodes in the Secure Network Monitoring instance can monitor all activities, as they cover all edges in G.\n",
    "Conversely, if there is a set of nodes in the Secure Network Monitoring instance that can monitor all activities, then the corresponding vertices in G form a vertex cover.\n",
    "This establishes that Vertex Cover ≤P Secure Network Monitoring, proving the problem is NP-complete."
   ]
  },
  {
   "cell_type": "markdown",
   "metadata": {},
   "source": [
    "8) You're in charge of resource allocation in a manufacturing plant that produces four different types of products: P1, P2, P3, and P4. To manufacture these products, you have four kinds of resources: R1, R2, R3, and R4. The availability of each resource is given in tons: tr1 tons of R1, tr2 tons of R2, tr3 tons of R3, and tr4 tons of R4. Each product requires a specific combination of resources to be manufactured, and each product requires one ton of resources in total to be produced for a month. The goal is to determine whether you have enough resources to meet the production requirements for all products for a month.\n",
    "\n",
    "P1 requires only R1 and R3.\n",
    "P2 requires R2 and R4.\n",
    "P3 requires R1, R2, and R4.\n",
    "P4 requires R1, R3, and R4.\n",
    "Your task is to devise an algorithm that uses network flow to determine if it is possible to satisfy the production requirements.\n",
    "\n",
    "Algorithm:\n",
    "\n",
    "Construct a Directed Graph G with Capacities c:\n",
    "Vertices:\n",
    "\n",
    "Create vertices vp1, vp2, vp3, and vp4 for the products.\n",
    "Create vertices ur1, ur2, ur3, and ur4 for the resources.\n",
    "Add a source vertex s and a sink vertex t.\n",
    "Edges:\n",
    "\n",
    "From s to ur1, ur2, ur3, and ur4 with capacities tr1, tr2, tr3, and tr4, respectively.\n",
    "From vp1, vp2, vp3, and vp4 to t with capacities equal to the production requirements for each product.\n",
    "For each resource, create an edge from that resource's vertex to the vertex of each product that requires it, with a capacity of 1.\n",
    "Solve Max Flow on G with Capacities c:\n",
    "\n",
    "Run a max flow algorithm (like Ford-Fulkerson) on G.\n",
    "Return “Yes” if and only if the size of the flow equals the total production requirement.\n",
    "Correctness:\n",
    "\n",
    "If there is a way to meet production requirements:\n",
    "\n",
    "Assign flow from s to each resource vertex equal to the amount of that resource being used.\n",
    "Assign flow from each resource vertex to each product vertex equal to the amount of that resource being used by the product.\n",
    "Assign flow from each product vertex to t equal to the total resources used by that product.\n",
    "Capacity constraints are satisfied because the resources used do not exceed the available amounts, and the products receive the required resources.\n",
    "Conservation constraints are satisfied because the total resources consumed by each product equal the sum of different types of resources it requires.\n",
    "The total flow into t will be equal to the total production requirement.\n",
    "If there is a flow of the required size:\n",
    "\n",
    "Allocate resources to each product according to the flow from the resource's vertex to the product's vertex.\n",
    "No resource is used beyond availability due to capacity constraints.\n",
    "Each product receives the required resources due to the conservation constraints and the fact that the max flow equals the total production requirement.\n",
    "Thus, the algorithm correctly determines whether the manufacturing plant can meet its production requirements with the available resources"
   ]
  },
  {
   "cell_type": "markdown",
   "metadata": {},
   "source": [
    "9) You're tasked with overseeing the distribution of electricity in a power grid serving four distinct regions: R1, R2, R3, and R4. Four types of power sources are at your disposal: S1, S2, S3, and S4, with their respective energy outputs measured in megawatts: es1 MW for S1, es2 MW for S2, es3 MW for S3, and es4 MW for S4. Each region has specific energy source requirements to satisfy its monthly energy demand, with every region needing one MW for the duration. The challenge is to assess if your available energy sources can fulfill the demands of all regions for one month.\n",
    "\n",
    "R1 can be powered by S1 and S3.\n",
    "R2 needs energy from S2 and S4.\n",
    "R3 is dependent on S1, S2, and S4.\n",
    "R4 requires S1, S3, and S4.\n",
    "The objective is to devise an algorithm that applies network flow principles to verify the feasibility of meeting all energy demands.\n",
    "\n",
    "Algorithm:\n",
    "\n",
    "Formation of a Flow Network:\n",
    "\n",
    "Nodes:\n",
    "Create nodes vr1, vr2, vr3, and vr4, each representing one of the regions.\n",
    "Create nodes us1, us2, us3, and us4, symbolizing the power sources.\n",
    "Introduce a source node s and a target node t.\n",
    "Connections:\n",
    "Link s to us1, us2, us3, and us4 with capacities es1, es2, es3, and es4.\n",
    "Connect vr1, vr2, vr3, and vr4 to t, each with a capacity reflecting the energy demand of the respective region.\n",
    "Draw edges from each power source to the regions it powers, each with a capacity of 1.\n",
    "Execution of Max Flow Calculation:\n",
    "\n",
    "Implement a max flow algorithm like Ford-Fulkerson on the constructed graph.\n",
    "Affirmative outcome, yes , is declared if the total flow matches the aggregate energy requirements of the regions.\n",
    "Validation of the Approach:\n",
    "\n",
    "Scenario of Sufficient Energy Supply:\n",
    "\n",
    "Direct flow from s to each power source equating to its utilized energy.\n",
    "Distribute flow from each power source to the regions it serves, corresponding to the energy allocation.\n",
    "Direct flow from each region to t, matching the region's total energy usage.\n",
    "Adherence to capacity constraints is ensured as the utilized energy doesn't surpass the available supply, and regions obtain necessary energy.\n",
    "Flow conservation is maintained as each region's total energy consumption equals the aggregated input from various sources.\n",
    "The collective flow into t aligns with the cumulative energy demand.\n",
    "Situation of Achievable Flow Matching Demand:\n",
    "\n",
    "Allocate energy to each region based on the flow from sources to regions.\n",
    "Observance of capacity limitations ensures no source is over-utilized.\n",
    "Each region's energy requirement is met, evident from flow conservation and the max flow equating to the total demand."
   ]
  }
 ],
 "metadata": {
  "language_info": {
   "name": "python"
  }
 },
 "nbformat": 4,
 "nbformat_minor": 2
}
